{
 "cells": [
  {
   "cell_type": "markdown",
   "id": "7271f58d-c669-445c-b154-9df4e8cedb74",
   "metadata": {},
   "source": [
    "# Data Science Tools and Ecosystem"
   ]
  },
  {
   "cell_type": "markdown",
   "id": "256dfaf6-bd33-4008-a666-05b62204cc9b",
   "metadata": {},
   "source": [
    "In this notebook, Data Science Tools and Ecosystem are summarized.\n"
   ]
  },
  {
   "cell_type": "markdown",
   "id": "d1eea634-6c2f-4d57-8132-890e5e30863f",
   "metadata": {},
   "source": [
    "Some of the popular languages that Data Scientists use are:\n",
    "1. python\n",
    "2. R\n",
    "3. SQL"
   ]
  },
  {
   "cell_type": "markdown",
   "id": "1b3fbc57-6e9c-4d96-9ee4-88f2cf5a5e7d",
   "metadata": {},
   "source": [
    "Some of the commonly used libraries used by Data Scientists include:\n",
    "1. pandas\n",
    "2. keras\n",
    "3. tensorflow"
   ]
  },
  {
   "cell_type": "markdown",
   "id": "c189bedd-2f31-4588-a334-49769685b5da",
   "metadata": {},
   "source": [
    "|Data Science Tools|\n",
    "|------------------|\n",
    "|R Studio|\n",
    "|Jupyter notebook|\n",
    "|Microsoft SQL|"
   ]
  },
  {
   "cell_type": "markdown",
   "id": "f998c540-4e9a-469d-a8fc-86cd605359e7",
   "metadata": {},
   "source": [
    "### Below are a few examples of evaluating arithmetic expressions in Python.\r\n"
   ]
  },
  {
   "cell_type": "code",
   "execution_count": 5,
   "id": "3620bd64-0a72-46fe-bde5-6f18ddba2e8a",
   "metadata": {},
   "outputs": [
    {
     "data": {
      "text/plain": [
       "17"
      ]
     },
     "execution_count": 5,
     "metadata": {},
     "output_type": "execute_result"
    }
   ],
   "source": [
    "#This a simple arithmetic expression to mutiply then add integers\n",
    "(3*4)+5"
   ]
  },
  {
   "cell_type": "code",
   "execution_count": 6,
   "id": "1b7ed4a8-daad-4ec6-81d1-13bd303086ce",
   "metadata": {},
   "outputs": [
    {
     "data": {
      "text/plain": [
       "33.333333333333336"
      ]
     },
     "execution_count": 6,
     "metadata": {},
     "output_type": "execute_result"
    }
   ],
   "source": [
    "#This will convert 200 minutes to hours by diving by 60.\n",
    "200/6"
   ]
  },
  {
   "cell_type": "markdown",
   "id": "a81bb278-620f-46a1-87ab-b14debcf0e6f",
   "metadata": {},
   "source": [
    "*Objectives:*\n",
    "- List popular languages for Data Science\n",
    "- libraries used by Data Scientists\n",
    "- Examples of evaluating arithmetic expressions in Python"
   ]
  },
  {
   "cell_type": "markdown",
   "id": "7e7bab5d-4df4-4d54-9c47-01fcb2d658cf",
   "metadata": {},
   "source": [
    "## Author \n",
    "Chou"
   ]
  },
  {
   "cell_type": "code",
   "execution_count": null,
   "id": "979be234-cc5d-4231-bba3-9176b30962ad",
   "metadata": {},
   "outputs": [],
   "source": []
  }
 ],
 "metadata": {
  "kernelspec": {
   "display_name": "Python 3 (ipykernel)",
   "language": "python",
   "name": "python3"
  },
  "language_info": {
   "codemirror_mode": {
    "name": "ipython",
    "version": 3
   },
   "file_extension": ".py",
   "mimetype": "text/x-python",
   "name": "python",
   "nbconvert_exporter": "python",
   "pygments_lexer": "ipython3",
   "version": "3.11.7"
  }
 },
 "nbformat": 4,
 "nbformat_minor": 5
}
